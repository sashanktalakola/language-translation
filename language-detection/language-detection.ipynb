{
  "nbformat": 4,
  "nbformat_minor": 0,
  "metadata": {
    "colab": {
      "name": "language-translation.ipynb",
      "provenance": [],
      "collapsed_sections": []
    },
    "kernelspec": {
      "name": "python3",
      "display_name": "Python 3"
    },
    "language_info": {
      "name": "python"
    }
  },
  "cells": [
    {
      "cell_type": "code",
      "execution_count": 1,
      "metadata": {
        "colab": {
          "base_uri": "https://localhost:8080/"
        },
        "id": "am1u474Xm50X",
        "outputId": "d0c21b3c-ac8f-4657-e5c8-a5b048997856"
      },
      "outputs": [
        {
          "output_type": "stream",
          "name": "stdout",
          "text": [
            "Mounted at ./drive\n"
          ]
        }
      ],
      "source": [
        "from google.colab import drive\n",
        "\n",
        "drive.mount(\"./drive\")"
      ]
    },
    {
      "cell_type": "code",
      "source": [
        "!mkdir \".tgz\"\n",
        "!mkdir data"
      ],
      "metadata": {
        "id": "2gpm_fHioGJE"
      },
      "execution_count": 2,
      "outputs": []
    },
    {
      "cell_type": "code",
      "source": [
        "!cp -R ./drive/MyDrive/projects/language-translation/data/* ./.tgz"
      ],
      "metadata": {
        "id": "IwdyTKBhoOBv"
      },
      "execution_count": 3,
      "outputs": []
    },
    {
      "cell_type": "code",
      "source": [
        "import os, tarfile, random\n",
        "files = os.listdir(\".tgz\")\n",
        "\n",
        "for fname in files:\n",
        "  FOLDER_NAME = fname.split(\".\")[0]\n",
        "  FILE_PATH = os.path.join(\".tgz\", fname)\n",
        "  tar_file = tarfile.open(FILE_PATH, \"r\")\n",
        "  for item in tar_file:\n",
        "    tar_file.extract(item, os.path.join(\"data\", FOLDER_NAME))\n",
        "  os.remove(FILE_PATH)"
      ],
      "metadata": {
        "id": "Ett6cEtyo134"
      },
      "execution_count": 6,
      "outputs": []
    },
    {
      "cell_type": "code",
      "source": [
        "DATA_PATH = \"data\"\n",
        "data_dict = {}\n",
        "data_dict[\"text\"] = []\n",
        "data_dict[\"label\"] = []\n",
        "\n",
        "for item in os.listdir(DATA_PATH):\n",
        "  language = item[:2]\n",
        "  filename = \"europarl-v7.{}.{}\".format(item, language)\n",
        "  FILE_PATH = os.path.join(DATA_PATH, item, filename)\n",
        "  lines = None\n",
        "  with open(FILE_PATH, \"r\", encoding=\"latin1\") as f: lines = f.readlines()\n",
        "  lines = random.sample(lines, 10000)\n",
        "  lines = list(map(lambda x: x.strip(), lines))\n",
        "\n",
        "  for line in lines:\n",
        "    data_dict[\"text\"].append(line)\n",
        "    data_dict[\"label\"].append(language)"
      ],
      "metadata": {
        "id": "-quO6OC2qIKx"
      },
      "execution_count": 46,
      "outputs": []
    },
    {
      "cell_type": "code",
      "source": [
        "import pandas as pd\n",
        "import numpy as np\n",
        "\n",
        "df = pd.DataFrame(data_dict)\n",
        "df.head()"
      ],
      "metadata": {
        "colab": {
          "base_uri": "https://localhost:8080/",
          "height": 206
        },
        "id": "XWpTOZPUwF-y",
        "outputId": "4ba2eb4c-d1ac-4930-df57-ac9d8f27a546"
      },
      "execution_count": 47,
      "outputs": [
        {
          "output_type": "execute_result",
          "data": {
            "text/plain": [
              "                                                text label\n",
              "0  Ir vÄl Vidaus rinkos ir vartotojÅ³ apsaugos k...    lt\n",
              "1  Kartu nustatomas reikalavimas, kad visi laivai...    lt\n",
              "2  Å i direktyva - dar vienas pavyzdys, kaip Euro...    lt\n",
              "3  Dabar Taryba negaiÅ¡dama laiko turÄtÅ³ pradÄ...    lt\n",
              "4  Å iuo atÅ¾vilgiu taip pat paminÄjau migracijo...    lt"
            ],
            "text/html": [
              "\n",
              "  <div id=\"df-346c15cd-2875-42ab-98af-469c20ef3785\">\n",
              "    <div class=\"colab-df-container\">\n",
              "      <div>\n",
              "<style scoped>\n",
              "    .dataframe tbody tr th:only-of-type {\n",
              "        vertical-align: middle;\n",
              "    }\n",
              "\n",
              "    .dataframe tbody tr th {\n",
              "        vertical-align: top;\n",
              "    }\n",
              "\n",
              "    .dataframe thead th {\n",
              "        text-align: right;\n",
              "    }\n",
              "</style>\n",
              "<table border=\"1\" class=\"dataframe\">\n",
              "  <thead>\n",
              "    <tr style=\"text-align: right;\">\n",
              "      <th></th>\n",
              "      <th>text</th>\n",
              "      <th>label</th>\n",
              "    </tr>\n",
              "  </thead>\n",
              "  <tbody>\n",
              "    <tr>\n",
              "      <th>0</th>\n",
              "      <td>Ir vÄl Vidaus rinkos ir vartotojÅ³ apsaugos k...</td>\n",
              "      <td>lt</td>\n",
              "    </tr>\n",
              "    <tr>\n",
              "      <th>1</th>\n",
              "      <td>Kartu nustatomas reikalavimas, kad visi laivai...</td>\n",
              "      <td>lt</td>\n",
              "    </tr>\n",
              "    <tr>\n",
              "      <th>2</th>\n",
              "      <td>Å i direktyva - dar vienas pavyzdys, kaip Euro...</td>\n",
              "      <td>lt</td>\n",
              "    </tr>\n",
              "    <tr>\n",
              "      <th>3</th>\n",
              "      <td>Dabar Taryba negaiÅ¡dama laiko turÄtÅ³ pradÄ...</td>\n",
              "      <td>lt</td>\n",
              "    </tr>\n",
              "    <tr>\n",
              "      <th>4</th>\n",
              "      <td>Å iuo atÅ¾vilgiu taip pat paminÄjau migracijo...</td>\n",
              "      <td>lt</td>\n",
              "    </tr>\n",
              "  </tbody>\n",
              "</table>\n",
              "</div>\n",
              "      <button class=\"colab-df-convert\" onclick=\"convertToInteractive('df-346c15cd-2875-42ab-98af-469c20ef3785')\"\n",
              "              title=\"Convert this dataframe to an interactive table.\"\n",
              "              style=\"display:none;\">\n",
              "        \n",
              "  <svg xmlns=\"http://www.w3.org/2000/svg\" height=\"24px\"viewBox=\"0 0 24 24\"\n",
              "       width=\"24px\">\n",
              "    <path d=\"M0 0h24v24H0V0z\" fill=\"none\"/>\n",
              "    <path d=\"M18.56 5.44l.94 2.06.94-2.06 2.06-.94-2.06-.94-.94-2.06-.94 2.06-2.06.94zm-11 1L8.5 8.5l.94-2.06 2.06-.94-2.06-.94L8.5 2.5l-.94 2.06-2.06.94zm10 10l.94 2.06.94-2.06 2.06-.94-2.06-.94-.94-2.06-.94 2.06-2.06.94z\"/><path d=\"M17.41 7.96l-1.37-1.37c-.4-.4-.92-.59-1.43-.59-.52 0-1.04.2-1.43.59L10.3 9.45l-7.72 7.72c-.78.78-.78 2.05 0 2.83L4 21.41c.39.39.9.59 1.41.59.51 0 1.02-.2 1.41-.59l7.78-7.78 2.81-2.81c.8-.78.8-2.07 0-2.86zM5.41 20L4 18.59l7.72-7.72 1.47 1.35L5.41 20z\"/>\n",
              "  </svg>\n",
              "      </button>\n",
              "      \n",
              "  <style>\n",
              "    .colab-df-container {\n",
              "      display:flex;\n",
              "      flex-wrap:wrap;\n",
              "      gap: 12px;\n",
              "    }\n",
              "\n",
              "    .colab-df-convert {\n",
              "      background-color: #E8F0FE;\n",
              "      border: none;\n",
              "      border-radius: 50%;\n",
              "      cursor: pointer;\n",
              "      display: none;\n",
              "      fill: #1967D2;\n",
              "      height: 32px;\n",
              "      padding: 0 0 0 0;\n",
              "      width: 32px;\n",
              "    }\n",
              "\n",
              "    .colab-df-convert:hover {\n",
              "      background-color: #E2EBFA;\n",
              "      box-shadow: 0px 1px 2px rgba(60, 64, 67, 0.3), 0px 1px 3px 1px rgba(60, 64, 67, 0.15);\n",
              "      fill: #174EA6;\n",
              "    }\n",
              "\n",
              "    [theme=dark] .colab-df-convert {\n",
              "      background-color: #3B4455;\n",
              "      fill: #D2E3FC;\n",
              "    }\n",
              "\n",
              "    [theme=dark] .colab-df-convert:hover {\n",
              "      background-color: #434B5C;\n",
              "      box-shadow: 0px 1px 3px 1px rgba(0, 0, 0, 0.15);\n",
              "      filter: drop-shadow(0px 1px 2px rgba(0, 0, 0, 0.3));\n",
              "      fill: #FFFFFF;\n",
              "    }\n",
              "  </style>\n",
              "\n",
              "      <script>\n",
              "        const buttonEl =\n",
              "          document.querySelector('#df-346c15cd-2875-42ab-98af-469c20ef3785 button.colab-df-convert');\n",
              "        buttonEl.style.display =\n",
              "          google.colab.kernel.accessAllowed ? 'block' : 'none';\n",
              "\n",
              "        async function convertToInteractive(key) {\n",
              "          const element = document.querySelector('#df-346c15cd-2875-42ab-98af-469c20ef3785');\n",
              "          const dataTable =\n",
              "            await google.colab.kernel.invokeFunction('convertToInteractive',\n",
              "                                                     [key], {});\n",
              "          if (!dataTable) return;\n",
              "\n",
              "          const docLinkHtml = 'Like what you see? Visit the ' +\n",
              "            '<a target=\"_blank\" href=https://colab.research.google.com/notebooks/data_table.ipynb>data table notebook</a>'\n",
              "            + ' to learn more about interactive tables.';\n",
              "          element.innerHTML = '';\n",
              "          dataTable['output_type'] = 'display_data';\n",
              "          await google.colab.output.renderOutput(dataTable, element);\n",
              "          const docLink = document.createElement('div');\n",
              "          docLink.innerHTML = docLinkHtml;\n",
              "          element.appendChild(docLink);\n",
              "        }\n",
              "      </script>\n",
              "    </div>\n",
              "  </div>\n",
              "  "
            ]
          },
          "metadata": {},
          "execution_count": 47
        }
      ]
    },
    {
      "cell_type": "code",
      "source": [
        "from sklearn.feature_extraction.text import CountVectorizer\n",
        "from sklearn.model_selection import train_test_split\n",
        "from sklearn.naive_bayes import MultinomialNB\n",
        "\n",
        "X = df.text.values\n",
        "y = df.label.values\n",
        "\n",
        "count_vec = CountVectorizer()\n",
        "X = count_vec.fit_transform(X)"
      ],
      "metadata": {
        "id": "QCg-2kUMwZH2"
      },
      "execution_count": 49,
      "outputs": []
    },
    {
      "cell_type": "code",
      "source": [
        "X_train, X_test, y_train, y_test = train_test_split(X, y, test_size=.1, random_state=42)\n",
        "\n",
        "model = MultinomialNB()\n",
        "model.fit(X_train, y_train)"
      ],
      "metadata": {
        "colab": {
          "base_uri": "https://localhost:8080/"
        },
        "id": "jzLWuP7Vwwpy",
        "outputId": "4f9a9596-4f6d-4ce3-bf19-8794262c07aa"
      },
      "execution_count": 51,
      "outputs": [
        {
          "output_type": "execute_result",
          "data": {
            "text/plain": [
              "MultinomialNB()"
            ]
          },
          "metadata": {},
          "execution_count": 51
        }
      ]
    },
    {
      "cell_type": "code",
      "source": [
        "model.score(X_train, y_train), model.score(X_test, y_test)"
      ],
      "metadata": {
        "colab": {
          "base_uri": "https://localhost:8080/"
        },
        "id": "0GW6uomlxb17",
        "outputId": "e917fe12-8276-4882-8937-2ad964263d9e"
      },
      "execution_count": 54,
      "outputs": [
        {
          "output_type": "execute_result",
          "data": {
            "text/plain": [
              "(0.9931833333333333, 0.9914)"
            ]
          },
          "metadata": {},
          "execution_count": 54
        }
      ]
    }
  ]
}