{
  "nbformat": 4,
  "nbformat_minor": 0,
  "metadata": {
    "colab": {
      "name": "language-detection.ipynb",
      "provenance": [],
      "collapsed_sections": [
        "-BYuI_fwEkq8",
        "2M9YWvRwE0Ig"
      ]
    },
    "kernelspec": {
      "name": "python3",
      "display_name": "Python 3"
    },
    "language_info": {
      "name": "python"
    }
  },
  "cells": [
    {
      "cell_type": "markdown",
      "source": [
        "# 0. Setup"
      ],
      "metadata": {
        "id": "-BYuI_fwEkq8"
      }
    },
    {
      "cell_type": "code",
      "execution_count": null,
      "metadata": {
        "id": "rgWHnuBsEgej"
      },
      "outputs": [],
      "source": [
        "from google.colab import drive\n",
        "\n",
        "drive.mount(\"./drive\")"
      ]
    },
    {
      "cell_type": "markdown",
      "source": [
        "## Language Files"
      ],
      "metadata": {
        "id": "k7Gvp-slEo8m"
      }
    },
    {
      "cell_type": "code",
      "source": [
        "!mkdir .tgz\n",
        "!mkdir data\n",
        "\n",
        "!cp -R ./drive/MyDrive/projects/language-translation/data/* ./.tgz"
      ],
      "metadata": {
        "id": "Hme5j6nZErM5"
      },
      "execution_count": null,
      "outputs": []
    },
    {
      "cell_type": "code",
      "source": [
        "import os, tarfile, random\n",
        "files = os.listdir(\".tgz\")\n",
        "\n",
        "for fname in files:\n",
        "  FOLDER_NAME = fname.split(\".\")[0]\n",
        "  FILE_PATH = os.path.join(\".tgz\", fname)\n",
        "  tar_file = tarfile.open(FILE_PATH, \"r\")\n",
        "  for item in tar_file:\n",
        "    tar_file.extract(item, os.path.join(\"data\", FOLDER_NAME))\n",
        "  os.remove(FILE_PATH)"
      ],
      "metadata": {
        "id": "JIh1L84QEuH9"
      },
      "execution_count": null,
      "outputs": []
    },
    {
      "cell_type": "markdown",
      "source": [
        "## JSON Files"
      ],
      "metadata": {
        "id": "qJinsc31Eve3"
      }
    },
    {
      "cell_type": "code",
      "source": [
        "!cp ./drive/MyDrive/projects/language-translation/data/*.json ."
      ],
      "metadata": {
        "id": "bKGjIO3LExFS"
      },
      "execution_count": null,
      "outputs": []
    },
    {
      "cell_type": "markdown",
      "source": [
        "# Language Detection"
      ],
      "metadata": {
        "id": "2M9YWvRwE0Ig"
      }
    },
    {
      "cell_type": "code",
      "source": [
        "import pandas as pd\n",
        "import numpy as np\n",
        "\n",
        "#10000 examples per class\n",
        "df = pd.read_json(\"language-detection-10000.json\", orient=\"records\", lines=True)\n",
        "df.head()"
      ],
      "metadata": {
        "id": "FtV05UPmE2XP"
      },
      "execution_count": null,
      "outputs": []
    },
    {
      "cell_type": "code",
      "source": [
        "from sklearn.feature_extraction.text import CountVectorizer\n",
        "from sklearn.model_selection import train_test_split\n",
        "from sklearn.naive_bayes import MultinomialNB\n",
        "\n",
        "X = df.text.values\n",
        "y = df.label.values\n",
        "\n",
        "count_vec = CountVectorizer()\n",
        "X_train, X_test, y_train, y_test = train_test_split(X, y, test_size=.1, random_state=42)"
      ],
      "metadata": {
        "id": "c5372vY5E4_6"
      },
      "execution_count": null,
      "outputs": []
    },
    {
      "cell_type": "code",
      "source": [
        "X_train = count_vec.fit_transform(X_train)\n",
        "X_test = count_vec.transform(X_test)\n",
        "\n",
        "model = MultinomialNB()\n",
        "model.fit(X_train, y_train)"
      ],
      "metadata": {
        "id": "0opZZQeOE6SF"
      },
      "execution_count": null,
      "outputs": []
    },
    {
      "cell_type": "code",
      "source": [
        "model.score(X_train, y_train), model.score(X_test, y_test)"
      ],
      "metadata": {
        "id": "wy93zcwLE7hM"
      },
      "execution_count": null,
      "outputs": []
    },
    {
      "cell_type": "code",
      "source": [
        "#50000 examples per class\n",
        "df = pd.read_json(\"language-detection-50000.json\", orient=\"records\", lines=True)\n",
        "\n",
        "data = (count_vec.transform(df.text.values), df.label.values)\n",
        "model.score(data[0], data[1])"
      ],
      "metadata": {
        "id": "Chz36yKFE81S"
      },
      "execution_count": null,
      "outputs": []
    }
  ]
}