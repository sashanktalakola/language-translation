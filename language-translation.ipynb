{
  "nbformat": 4,
  "nbformat_minor": 0,
  "metadata": {
    "colab": {
      "name": "language-translation.ipynb",
      "provenance": [],
      "collapsed_sections": []
    },
    "kernelspec": {
      "name": "python3",
      "display_name": "Python 3"
    },
    "language_info": {
      "name": "python"
    }
  },
  "cells": [
    {
      "cell_type": "markdown",
      "source": [
        "# 0. Setup"
      ],
      "metadata": {
        "id": "bjP-YuKi27x3"
      }
    },
    {
      "cell_type": "code",
      "execution_count": null,
      "metadata": {
        "id": "am1u474Xm50X"
      },
      "outputs": [],
      "source": [
        "from google.colab import drive\n",
        "\n",
        "drive.mount(\"./drive\")"
      ]
    },
    {
      "cell_type": "markdown",
      "source": [
        "## JSON files"
      ],
      "metadata": {
        "id": "lU0qZtE9D8g6"
      }
    },
    {
      "cell_type": "code",
      "source": [
        "!cp ./drive/MyDrive/projects/language-translation/data/json/language-translation/es-en-10-percent.json ."
      ],
      "metadata": {
        "id": "SKgKvF27Cp8d"
      },
      "execution_count": null,
      "outputs": []
    },
    {
      "cell_type": "markdown",
      "source": [
        "# Language Translation"
      ],
      "metadata": {
        "id": "psmmoMoq8GPO"
      }
    },
    {
      "cell_type": "markdown",
      "source": [
        "## seq2seq LSTM"
      ],
      "metadata": {
        "id": "LAVBi8mT8Jnr"
      }
    },
    {
      "cell_type": "code",
      "source": [
        ""
      ],
      "metadata": {
        "id": "1Vh0gUWO8NP1"
      },
      "execution_count": null,
      "outputs": []
    }
  ]
}