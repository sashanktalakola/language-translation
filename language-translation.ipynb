{
  "nbformat": 4,
  "nbformat_minor": 0,
  "metadata": {
    "colab": {
      "name": "language-translation.ipynb",
      "provenance": [],
      "collapsed_sections": [
        "v8RYUpD_kDm9"
      ]
    },
    "kernelspec": {
      "name": "python3",
      "display_name": "Python 3"
    },
    "language_info": {
      "name": "python"
    },
    "gpuClass": "standard",
    "widgets": {
      "application/vnd.jupyter.widget-state+json": {
        "5f924a664c4447d48724cbf1654dc695": {
          "model_module": "@jupyter-widgets/controls",
          "model_name": "HBoxModel",
          "model_module_version": "1.5.0",
          "state": {
            "_dom_classes": [],
            "_model_module": "@jupyter-widgets/controls",
            "_model_module_version": "1.5.0",
            "_model_name": "HBoxModel",
            "_view_count": null,
            "_view_module": "@jupyter-widgets/controls",
            "_view_module_version": "1.5.0",
            "_view_name": "HBoxView",
            "box_style": "",
            "children": [
              "IPY_MODEL_e19f8ca083de4035997e4a28f9694f2f",
              "IPY_MODEL_699ca7127a40401fb9853ddf1479467b",
              "IPY_MODEL_e451466fe40249a48d8b5c20a67224b4"
            ],
            "layout": "IPY_MODEL_b0ae5206a5254c778ee1298a955b1b0e"
          }
        },
        "e19f8ca083de4035997e4a28f9694f2f": {
          "model_module": "@jupyter-widgets/controls",
          "model_name": "HTMLModel",
          "model_module_version": "1.5.0",
          "state": {
            "_dom_classes": [],
            "_model_module": "@jupyter-widgets/controls",
            "_model_module_version": "1.5.0",
            "_model_name": "HTMLModel",
            "_view_count": null,
            "_view_module": "@jupyter-widgets/controls",
            "_view_module_version": "1.5.0",
            "_view_name": "HTMLView",
            "description": "",
            "description_tooltip": null,
            "layout": "IPY_MODEL_1745014bfceb4d17ba558b8359035c05",
            "placeholder": "​",
            "style": "IPY_MODEL_1756f6658fb247ee91e8f9a7bfee29d0",
            "value": "30/4301:   1%"
          }
        },
        "699ca7127a40401fb9853ddf1479467b": {
          "model_module": "@jupyter-widgets/controls",
          "model_name": "FloatProgressModel",
          "model_module_version": "1.5.0",
          "state": {
            "_dom_classes": [],
            "_model_module": "@jupyter-widgets/controls",
            "_model_module_version": "1.5.0",
            "_model_name": "FloatProgressModel",
            "_view_count": null,
            "_view_module": "@jupyter-widgets/controls",
            "_view_module_version": "1.5.0",
            "_view_name": "ProgressView",
            "bar_style": "",
            "description": "",
            "description_tooltip": null,
            "layout": "IPY_MODEL_0ed612db26fe4a5fa55c9784cfbe69bd",
            "max": 4301,
            "min": 0,
            "orientation": "horizontal",
            "style": "IPY_MODEL_960e9fd09e0241989eff0d5991cdfbb8",
            "value": 29
          }
        },
        "e451466fe40249a48d8b5c20a67224b4": {
          "model_module": "@jupyter-widgets/controls",
          "model_name": "HTMLModel",
          "model_module_version": "1.5.0",
          "state": {
            "_dom_classes": [],
            "_model_module": "@jupyter-widgets/controls",
            "_model_module_version": "1.5.0",
            "_model_name": "HTMLModel",
            "_view_count": null,
            "_view_module": "@jupyter-widgets/controls",
            "_view_module_version": "1.5.0",
            "_view_name": "HTMLView",
            "description": "",
            "description_tooltip": null,
            "layout": "IPY_MODEL_09c596c4fefe4af39b9a9a32f181b5dc",
            "placeholder": "​",
            "style": "IPY_MODEL_fa3617d2e19c4b2cbccd95c2e748f969",
            "value": " 29/4301 [00:33&lt;1:11:31,  1.00s/it]"
          }
        },
        "b0ae5206a5254c778ee1298a955b1b0e": {
          "model_module": "@jupyter-widgets/base",
          "model_name": "LayoutModel",
          "model_module_version": "1.2.0",
          "state": {
            "_model_module": "@jupyter-widgets/base",
            "_model_module_version": "1.2.0",
            "_model_name": "LayoutModel",
            "_view_count": null,
            "_view_module": "@jupyter-widgets/base",
            "_view_module_version": "1.2.0",
            "_view_name": "LayoutView",
            "align_content": null,
            "align_items": null,
            "align_self": null,
            "border": null,
            "bottom": null,
            "display": null,
            "flex": null,
            "flex_flow": null,
            "grid_area": null,
            "grid_auto_columns": null,
            "grid_auto_flow": null,
            "grid_auto_rows": null,
            "grid_column": null,
            "grid_gap": null,
            "grid_row": null,
            "grid_template_areas": null,
            "grid_template_columns": null,
            "grid_template_rows": null,
            "height": null,
            "justify_content": null,
            "justify_items": null,
            "left": null,
            "margin": null,
            "max_height": null,
            "max_width": null,
            "min_height": null,
            "min_width": null,
            "object_fit": null,
            "object_position": null,
            "order": null,
            "overflow": null,
            "overflow_x": null,
            "overflow_y": null,
            "padding": null,
            "right": null,
            "top": null,
            "visibility": null,
            "width": null
          }
        },
        "1745014bfceb4d17ba558b8359035c05": {
          "model_module": "@jupyter-widgets/base",
          "model_name": "LayoutModel",
          "model_module_version": "1.2.0",
          "state": {
            "_model_module": "@jupyter-widgets/base",
            "_model_module_version": "1.2.0",
            "_model_name": "LayoutModel",
            "_view_count": null,
            "_view_module": "@jupyter-widgets/base",
            "_view_module_version": "1.2.0",
            "_view_name": "LayoutView",
            "align_content": null,
            "align_items": null,
            "align_self": null,
            "border": null,
            "bottom": null,
            "display": null,
            "flex": null,
            "flex_flow": null,
            "grid_area": null,
            "grid_auto_columns": null,
            "grid_auto_flow": null,
            "grid_auto_rows": null,
            "grid_column": null,
            "grid_gap": null,
            "grid_row": null,
            "grid_template_areas": null,
            "grid_template_columns": null,
            "grid_template_rows": null,
            "height": null,
            "justify_content": null,
            "justify_items": null,
            "left": null,
            "margin": null,
            "max_height": null,
            "max_width": null,
            "min_height": null,
            "min_width": null,
            "object_fit": null,
            "object_position": null,
            "order": null,
            "overflow": null,
            "overflow_x": null,
            "overflow_y": null,
            "padding": null,
            "right": null,
            "top": null,
            "visibility": null,
            "width": null
          }
        },
        "1756f6658fb247ee91e8f9a7bfee29d0": {
          "model_module": "@jupyter-widgets/controls",
          "model_name": "DescriptionStyleModel",
          "model_module_version": "1.5.0",
          "state": {
            "_model_module": "@jupyter-widgets/controls",
            "_model_module_version": "1.5.0",
            "_model_name": "DescriptionStyleModel",
            "_view_count": null,
            "_view_module": "@jupyter-widgets/base",
            "_view_module_version": "1.2.0",
            "_view_name": "StyleView",
            "description_width": ""
          }
        },
        "0ed612db26fe4a5fa55c9784cfbe69bd": {
          "model_module": "@jupyter-widgets/base",
          "model_name": "LayoutModel",
          "model_module_version": "1.2.0",
          "state": {
            "_model_module": "@jupyter-widgets/base",
            "_model_module_version": "1.2.0",
            "_model_name": "LayoutModel",
            "_view_count": null,
            "_view_module": "@jupyter-widgets/base",
            "_view_module_version": "1.2.0",
            "_view_name": "LayoutView",
            "align_content": null,
            "align_items": null,
            "align_self": null,
            "border": null,
            "bottom": null,
            "display": null,
            "flex": null,
            "flex_flow": null,
            "grid_area": null,
            "grid_auto_columns": null,
            "grid_auto_flow": null,
            "grid_auto_rows": null,
            "grid_column": null,
            "grid_gap": null,
            "grid_row": null,
            "grid_template_areas": null,
            "grid_template_columns": null,
            "grid_template_rows": null,
            "height": null,
            "justify_content": null,
            "justify_items": null,
            "left": null,
            "margin": null,
            "max_height": null,
            "max_width": null,
            "min_height": null,
            "min_width": null,
            "object_fit": null,
            "object_position": null,
            "order": null,
            "overflow": null,
            "overflow_x": null,
            "overflow_y": null,
            "padding": null,
            "right": null,
            "top": null,
            "visibility": null,
            "width": null
          }
        },
        "960e9fd09e0241989eff0d5991cdfbb8": {
          "model_module": "@jupyter-widgets/controls",
          "model_name": "ProgressStyleModel",
          "model_module_version": "1.5.0",
          "state": {
            "_model_module": "@jupyter-widgets/controls",
            "_model_module_version": "1.5.0",
            "_model_name": "ProgressStyleModel",
            "_view_count": null,
            "_view_module": "@jupyter-widgets/base",
            "_view_module_version": "1.2.0",
            "_view_name": "StyleView",
            "bar_color": null,
            "description_width": ""
          }
        },
        "09c596c4fefe4af39b9a9a32f181b5dc": {
          "model_module": "@jupyter-widgets/base",
          "model_name": "LayoutModel",
          "model_module_version": "1.2.0",
          "state": {
            "_model_module": "@jupyter-widgets/base",
            "_model_module_version": "1.2.0",
            "_model_name": "LayoutModel",
            "_view_count": null,
            "_view_module": "@jupyter-widgets/base",
            "_view_module_version": "1.2.0",
            "_view_name": "LayoutView",
            "align_content": null,
            "align_items": null,
            "align_self": null,
            "border": null,
            "bottom": null,
            "display": null,
            "flex": null,
            "flex_flow": null,
            "grid_area": null,
            "grid_auto_columns": null,
            "grid_auto_flow": null,
            "grid_auto_rows": null,
            "grid_column": null,
            "grid_gap": null,
            "grid_row": null,
            "grid_template_areas": null,
            "grid_template_columns": null,
            "grid_template_rows": null,
            "height": null,
            "justify_content": null,
            "justify_items": null,
            "left": null,
            "margin": null,
            "max_height": null,
            "max_width": null,
            "min_height": null,
            "min_width": null,
            "object_fit": null,
            "object_position": null,
            "order": null,
            "overflow": null,
            "overflow_x": null,
            "overflow_y": null,
            "padding": null,
            "right": null,
            "top": null,
            "visibility": null,
            "width": null
          }
        },
        "fa3617d2e19c4b2cbccd95c2e748f969": {
          "model_module": "@jupyter-widgets/controls",
          "model_name": "DescriptionStyleModel",
          "model_module_version": "1.5.0",
          "state": {
            "_model_module": "@jupyter-widgets/controls",
            "_model_module_version": "1.5.0",
            "_model_name": "DescriptionStyleModel",
            "_view_count": null,
            "_view_module": "@jupyter-widgets/base",
            "_view_module_version": "1.2.0",
            "_view_name": "StyleView",
            "description_width": ""
          }
        }
      }
    }
  },
  "cells": [
    {
      "cell_type": "code",
      "source": [
        "!nvidia-smi -L"
      ],
      "metadata": {
        "id": "5KRKt2Oc0csZ"
      },
      "execution_count": null,
      "outputs": []
    },
    {
      "cell_type": "markdown",
      "source": [
        "# 0. Setup"
      ],
      "metadata": {
        "id": "bjP-YuKi27x3"
      }
    },
    {
      "cell_type": "code",
      "source": [
        "!pip install -U torch==1.8.0 torchtext==0.9.0\n",
        "exit()"
      ],
      "metadata": {
        "id": "cP6yBrc6yAME",
        "colab": {
          "base_uri": "https://localhost:8080/"
        },
        "outputId": "595739e1-1a2a-476d-a24c-1e4fa3245c5f"
      },
      "execution_count": 2,
      "outputs": [
        {
          "output_type": "stream",
          "name": "stdout",
          "text": [
            "Looking in indexes: https://pypi.org/simple, https://us-python.pkg.dev/colab-wheels/public/simple/\n",
            "Collecting torch==1.8.0\n",
            "  Downloading torch-1.8.0-cp37-cp37m-manylinux1_x86_64.whl (735.5 MB)\n",
            "\u001b[K     |████████████████████████████████| 735.5 MB 13 kB/s \n",
            "\u001b[?25hCollecting torchtext==0.9.0\n",
            "  Downloading torchtext-0.9.0-cp37-cp37m-manylinux1_x86_64.whl (7.1 MB)\n",
            "\u001b[K     |████████████████████████████████| 7.1 MB 41.3 MB/s \n",
            "\u001b[?25hRequirement already satisfied: typing-extensions in /usr/local/lib/python3.7/dist-packages (from torch==1.8.0) (4.1.1)\n",
            "Requirement already satisfied: numpy in /usr/local/lib/python3.7/dist-packages (from torch==1.8.0) (1.21.6)\n",
            "Requirement already satisfied: tqdm in /usr/local/lib/python3.7/dist-packages (from torchtext==0.9.0) (4.64.0)\n",
            "Requirement already satisfied: requests in /usr/local/lib/python3.7/dist-packages (from torchtext==0.9.0) (2.23.0)\n",
            "Requirement already satisfied: urllib3!=1.25.0,!=1.25.1,<1.26,>=1.21.1 in /usr/local/lib/python3.7/dist-packages (from requests->torchtext==0.9.0) (1.24.3)\n",
            "Requirement already satisfied: idna<3,>=2.5 in /usr/local/lib/python3.7/dist-packages (from requests->torchtext==0.9.0) (2.10)\n",
            "Requirement already satisfied: certifi>=2017.4.17 in /usr/local/lib/python3.7/dist-packages (from requests->torchtext==0.9.0) (2022.6.15)\n",
            "Requirement already satisfied: chardet<4,>=3.0.2 in /usr/local/lib/python3.7/dist-packages (from requests->torchtext==0.9.0) (3.0.4)\n",
            "Installing collected packages: torch, torchtext\n",
            "  Attempting uninstall: torch\n",
            "    Found existing installation: torch 1.12.0+cu113\n",
            "    Uninstalling torch-1.12.0+cu113:\n",
            "      Successfully uninstalled torch-1.12.0+cu113\n",
            "  Attempting uninstall: torchtext\n",
            "    Found existing installation: torchtext 0.13.0\n",
            "    Uninstalling torchtext-0.13.0:\n",
            "      Successfully uninstalled torchtext-0.13.0\n",
            "\u001b[31mERROR: pip's dependency resolver does not currently take into account all the packages that are installed. This behaviour is the source of the following dependency conflicts.\n",
            "torchvision 0.13.0+cu113 requires torch==1.12.0, but you have torch 1.8.0 which is incompatible.\n",
            "torchaudio 0.12.0+cu113 requires torch==1.12.0, but you have torch 1.8.0 which is incompatible.\u001b[0m\n",
            "Successfully installed torch-1.8.0 torchtext-0.9.0\n"
          ]
        }
      ]
    },
    {
      "cell_type": "code",
      "execution_count": 11,
      "metadata": {
        "id": "am1u474Xm50X",
        "colab": {
          "base_uri": "https://localhost:8080/"
        },
        "outputId": "0478cb7d-0973-43da-946d-b3e979e6ce17"
      },
      "outputs": [
        {
          "output_type": "stream",
          "name": "stdout",
          "text": [
            "Mounted at ./drive\n"
          ]
        }
      ],
      "source": [
        "from google.colab import drive\n",
        "\n",
        "drive.mount(\"./drive\")"
      ]
    },
    {
      "cell_type": "markdown",
      "source": [
        "## JSON files"
      ],
      "metadata": {
        "id": "lU0qZtE9D8g6"
      }
    },
    {
      "cell_type": "code",
      "source": [
        "!mkdir data\n",
        "!cp ./drive/MyDrive/projects/language-translation/data/json/language-translation/es-en/es-en-10p*.json ./data/"
      ],
      "metadata": {
        "id": "SKgKvF27Cp8d",
        "colab": {
          "base_uri": "https://localhost:8080/"
        },
        "outputId": "a69bf0f5-1c30-4281-eeaf-74d1164fb7a1"
      },
      "execution_count": 12,
      "outputs": [
        {
          "output_type": "stream",
          "name": "stdout",
          "text": [
            "mkdir: cannot create directory ‘data’: File exists\n"
          ]
        }
      ]
    },
    {
      "cell_type": "markdown",
      "source": [
        "# Language Translation"
      ],
      "metadata": {
        "id": "psmmoMoq8GPO"
      }
    },
    {
      "cell_type": "code",
      "source": [
        "import torch\n",
        "import torch.nn as nn\n",
        "import torch.optim as optim\n",
        "from torchtext.legacy.data import Field, BucketIterator, TabularDataset\n",
        "\n",
        "\n",
        "import os\n",
        "import pandas as pd\n",
        "from spacy.tokenizer import Tokenizer\n",
        "import spacy\n",
        "import random\n",
        "\n",
        "random.seed(42)"
      ],
      "metadata": {
        "id": "tTzKLtL5_Ijk"
      },
      "execution_count": 1,
      "outputs": []
    },
    {
      "cell_type": "markdown",
      "source": [
        "## Models"
      ],
      "metadata": {
        "id": "v8RYUpD_kDm9"
      }
    },
    {
      "cell_type": "markdown",
      "source": [
        "### seq2seq LSTM"
      ],
      "metadata": {
        "id": "NtRqTgaRkIxR"
      }
    },
    {
      "cell_type": "code",
      "source": [
        "class Encoder(nn.Module):\n",
        "  def __init__(self, input_size, embedding_size, hidden_size, num_layers, dropout_rate):\n",
        "      super(Encoder, self).__init__()\n",
        "      self.dropout = nn.Dropout(dropout_rate)\n",
        "      self.hidden_size = hidden_size\n",
        "      self.num_layers = num_layers\n",
        "\n",
        "      self.embedding = nn.Embedding(input_size, embedding_size)\n",
        "      self.rnn = nn.LSTM(embedding_size, hidden_size, num_layers, dropout=dropout_rate)\n",
        "\n",
        "  def forward(self, X):\n",
        "    embedding = self.dropout(self.embedding(X))\n",
        "    outputs, (h, c) = self.rnn(embedding)\n",
        "    return h, c\n",
        "\n",
        "class Decoder(nn.Module):\n",
        "  def __init__(self, input_size, embedding_size, hidden_size, num_layers, dropout_rate):\n",
        "      super(Decoder, self).__init__()\n",
        "      self.dropout = nn.Dropout(dropout_rate)\n",
        "      self.hidden_size = hidden_size\n",
        "      self.num_layers = num_layers\n",
        "\n",
        "      self.embedding = nn.Embedding(input_size, embedding_size)\n",
        "      self.rnn = nn.LSTM(embedding_size, hidden_size, num_layers, dropout=dropout_rate)\n",
        "\n",
        "      output_size = input_size\n",
        "      self.fc = nn.Linear(hidden_size, output_size)\n",
        "\n",
        "  def forward(self, X, h, c):\n",
        "      X = X.unsqueeze(0)\n",
        "      embedding = self.dropout(self.embedding(X))\n",
        "      outputs, (h, c) = self.rnn(embedding, (h, c))\n",
        "      predictions = self.fc(outputs)\n",
        "      predictions = predictions.squeeze(0)\n",
        "\n",
        "      return predictions, h, c"
      ],
      "metadata": {
        "id": "6pyM0fcdkMqt"
      },
      "execution_count": 2,
      "outputs": []
    },
    {
      "cell_type": "code",
      "source": [
        "class seq2seq(nn.Module):\n",
        "  def __init__(self, encoder, decoder):\n",
        "      super(seq2seq, self).__init__()\n",
        "      self.encoder = encoder\n",
        "      self.decoder = decoder\n",
        "\n",
        "  def forward(self, source, target, teacher_force_ratio=0.5):\n",
        "      batch_size = source.shape[1]\n",
        "      target_len = target.shape[0]\n",
        "      target_vocab_size = len(english.vocab)\n",
        "\n",
        "      outputs = torch.zeros(target_len, batch_size, target_vocab_size, requires_grad=True).to(device)\n",
        "      hidden, cell = self.encoder(source)\n",
        "      X = target[0]\n",
        "\n",
        "      for t in range(1, target_len):\n",
        "          output, hidden, cell = self.decoder(X, hidden, cell)\n",
        "          best_guess = output.argmax(1)\n",
        "          X = target[t] if random.random() < teacher_force_ratio else best_guess\n",
        "\n",
        "      return outputs"
      ],
      "metadata": {
        "id": "23RAjMu_kPkH"
      },
      "execution_count": 3,
      "outputs": []
    },
    {
      "cell_type": "markdown",
      "source": [
        "## Single Language\n",
        "Spanish to English"
      ],
      "metadata": {
        "id": "LAVBi8mT8Jnr"
      }
    },
    {
      "cell_type": "code",
      "source": [
        "!python -m spacy download es_core_news_sm"
      ],
      "metadata": {
        "id": "hutmDMyAUt_r",
        "colab": {
          "base_uri": "https://localhost:8080/"
        },
        "outputId": "e657ce88-8deb-4f59-c7df-125a37fecbb1"
      },
      "execution_count": 7,
      "outputs": [
        {
          "output_type": "stream",
          "name": "stdout",
          "text": [
            "Installing collected packages: es-core-news-sm\n",
            "Successfully installed es-core-news-sm-3.4.0\n",
            "\u001b[38;5;2m✔ Download and installation successful\u001b[0m\n",
            "You can now load the package via spacy.load('es_core_news_sm')\n"
          ]
        }
      ]
    },
    {
      "cell_type": "code",
      "source": [
        "spanish_tokenizer = Tokenizer(spacy.load(\"es_core_news_sm\").vocab)\n",
        "english_tokenizer = Tokenizer(spacy.load(\"en_core_web_sm\").vocab)\n",
        "\n",
        "def tokenizer_es(data):\n",
        "  return [token.text for token in spanish_tokenizer(data)]\n",
        "\n",
        "def tokenizer_en(data):\n",
        "  return [token.text for token in english_tokenizer(data)]"
      ],
      "metadata": {
        "id": "AZ3YhXP6N6ez"
      },
      "execution_count": null,
      "outputs": []
    },
    {
      "cell_type": "code",
      "source": [
        "english = Field(tokenize=\"spacy\", lower=True, sequential=True, use_vocab=True,\n",
        "                init_token=\"<sos>\", eos_token=\"<eos>\", tokenizer_language=\"en_core_web_sm\")\n",
        "\n",
        "spanish = Field(tokenize=\"spacy\", lower=True, sequential=True, use_vocab=True,\n",
        "                init_token=\"<sos>\", eos_token=\"<eos>\", tokenizer_language=\"es_core_news_sm\")\n",
        "\n",
        "fields = {\"spanish\": (\"spanish\", spanish), \"english\": (\"english\", english)}"
      ],
      "metadata": {
        "id": "_JbICx56WutC"
      },
      "execution_count": 8,
      "outputs": []
    },
    {
      "cell_type": "code",
      "source": [
        "train_data, valid_data, test_data = TabularDataset.splits(path=\"data\", train=\"es-en-10p-train.json\",\n",
        "                      validation=\"es-en-10p-validation.json\", test=\"es-en-10p-test.json\",\n",
        "                      format=\"json\", fields=fields)"
      ],
      "metadata": {
        "id": "nT758pbRChHk"
      },
      "execution_count": 13,
      "outputs": []
    },
    {
      "cell_type": "code",
      "source": [
        "spanish.build_vocab(train_data, max_size=10000, min_freq=2) #vectors='glove.6B.100d'\n",
        "english.build_vocab(train_data, max_size=10000, min_freq=2) #vectors='glove.6B.100d'\n",
        "\n",
        "train_iterator, valid_iterator, test_iterator = BucketIterator.splits((train_data, valid_data, test_data),\n",
        "                                                                      batch_size=32, sort_within_batch=True,\n",
        "                                                                      sort_key=lambda x: len(x.spanish))"
      ],
      "metadata": {
        "id": "bg1XdL49COJs"
      },
      "execution_count": 14,
      "outputs": []
    },
    {
      "cell_type": "code",
      "source": [
        "device = torch.device('cuda' if torch.cuda.is_available() else 'cpu')\n",
        "INPUT_SIZE_ENCODER = len(spanish.vocab)\n",
        "INPUT_SIZE_DECODER = len(english.vocab)\n",
        "OUTPUT_SIZE = INPUT_SIZE_DECODER\n",
        "EMBEDDING_SIZE_ENCODER = 300\n",
        "EMBEDDING_SIZE_DECODER = 300\n",
        "HIDDEN_SIZE = 512\n",
        "NUM_LAYERS = 2\n",
        "DROPOUT_ENCODER = .5\n",
        "DROPOUT_DECODER = .5"
      ],
      "metadata": {
        "id": "n5fHAcC4RmOL"
      },
      "execution_count": 15,
      "outputs": []
    },
    {
      "cell_type": "code",
      "source": [
        "encoder = Encoder(INPUT_SIZE_ENCODER, EMBEDDING_SIZE_ENCODER, HIDDEN_SIZE, NUM_LAYERS,\n",
        "                  DROPOUT_ENCODER).to(device)\n",
        "decoder = Decoder(INPUT_SIZE_DECODER, EMBEDDING_SIZE_DECODER, HIDDEN_SIZE, NUM_LAYERS,\n",
        "                  DROPOUT_DECODER).to(device)\n",
        "\n",
        "seq2seq_model = seq2seq(encoder, decoder).to(device)"
      ],
      "metadata": {
        "id": "UkDF6BSogRIa"
      },
      "execution_count": 16,
      "outputs": []
    },
    {
      "cell_type": "code",
      "source": [
        "LR = .001\n",
        "BATCH_SIZE = 32\n",
        "PAD_INDEX = english.vocab.stoi[\"<pad>\"]\n",
        "\n",
        "loss_fn = nn.CrossEntropyLoss(ignore_index=PAD_INDEX)\n",
        "optimizer = optim.Adam(seq2seq_model.parameters(), lr=LR)"
      ],
      "metadata": {
        "id": "CKubZ822fxbX"
      },
      "execution_count": null,
      "outputs": []
    },
    {
      "cell_type": "markdown",
      "source": [
        "### Training"
      ],
      "metadata": {
        "id": "4UVbrd2BcChF"
      }
    },
    {
      "cell_type": "code",
      "source": [
        "from tqdm.notebook import tqdm\n",
        "\n",
        "N_EPOCHS = 10\n",
        "N_BATCHES = len(train_iterator)\n",
        "for epoch_num in range(1, N_EPOCHS+1):\n",
        "  print(\"Epoch [{}/{}]\".format(epoch_num, N_EPOCHS))\n",
        "\n",
        "  loop = tqdm(range(1, N_BATCHES+1), total=N_BATCHES)\n",
        "\n",
        "  for i, batch in zip(loop, train_iterator):\n",
        "    loop.set_description(\"{}/{}\".format(i, N_BATCHES))\n",
        "    source_data = batch.spanish.to(device)\n",
        "    target_data = batch.english.to(device)\n",
        "\n",
        "    output = seq2seq_model(source_data, target_data)\n",
        "    output = output[1:].reshape(-1, output.shape[2])\n",
        "    target_data = target_data[1:].reshape(-1)\n",
        "\n",
        "    optimizer.zero_grad()\n",
        "    loss = loss_fn(output, target_data)\n",
        "    loss.backward()\n",
        "\n",
        "    torch.nn.utils.clip_grad_norm_(seq2seq_model.parameters(), max_norm=1)\n",
        "    optimizer.step()"
      ],
      "metadata": {
        "colab": {
          "base_uri": "https://localhost:8080/",
          "height": 67,
          "referenced_widgets": [
            "5f924a664c4447d48724cbf1654dc695",
            "e19f8ca083de4035997e4a28f9694f2f",
            "699ca7127a40401fb9853ddf1479467b",
            "e451466fe40249a48d8b5c20a67224b4",
            "b0ae5206a5254c778ee1298a955b1b0e",
            "1745014bfceb4d17ba558b8359035c05",
            "1756f6658fb247ee91e8f9a7bfee29d0",
            "0ed612db26fe4a5fa55c9784cfbe69bd",
            "960e9fd09e0241989eff0d5991cdfbb8",
            "09c596c4fefe4af39b9a9a32f181b5dc",
            "fa3617d2e19c4b2cbccd95c2e748f969"
          ]
        },
        "id": "lPJRKkYaXACb",
        "outputId": "c7e8c0c1-a8fe-4990-8d3e-c2927d8a1e45"
      },
      "execution_count": null,
      "outputs": [
        {
          "output_type": "stream",
          "name": "stdout",
          "text": [
            "Epoch [1/10]\n"
          ]
        },
        {
          "output_type": "display_data",
          "data": {
            "text/plain": [
              "  0%|          | 0/4301 [00:00<?, ?it/s]"
            ],
            "application/vnd.jupyter.widget-view+json": {
              "version_major": 2,
              "version_minor": 0,
              "model_id": "5f924a664c4447d48724cbf1654dc695"
            }
          },
          "metadata": {}
        }
      ]
    }
  ]
}